{
 "cells": [
  {
   "cell_type": "code",
   "execution_count": 1,
   "metadata": {},
   "outputs": [
    {
     "data": {
      "text/plain": [
       "[['Aaron', 'Emma', 'albatross', 'ate', 'banana'],\n",
       " ['Abel', 'Olivia', 'alligator', 'cooked', 'blackberry'],\n",
       " ['Abraham', 'Ava', 'alpaca', 'boiled', 'blueberry'],\n",
       " ['Adam', 'Isabella', 'anaconda', 'fried', 'breadfruit'],\n",
       " ['Adrian', 'Sophia', 'ant', 'baked', 'cantaloupe'],\n",
       " ['Alexander', 'Mia', 'anteater', 'peeled', 'cherry'],\n",
       " ['Andrew', 'Charlotte', 'antelope', 'bought', 'chilli'],\n",
       " ['Anthony', 'Amelia', 'armadillo', 'sold', 'cranberry'],\n",
       " ['Archer', 'Evelyn', 'badger', 'cut', 'currant'],\n",
       " ['Arthur', 'Abigail', 'badger', 'chopped', 'dragonfruit'],\n",
       " ['Asher', 'Harper', 'beaver', 'drank', 'fig'],\n",
       " ['Austin', 'Emily', 'bison', 'sipped', 'gooseberry'],\n",
       " ['Axel', 'Elizabeth', 'bear', 'chewed', 'grape'],\n",
       " ['Benjamin', 'Avery', 'buffalo', 'stole', 'grapefruit'],\n",
       " ['Blake', 'Sofia', 'cat', 'smashed', 'guava'],\n",
       " ['Bradley', 'Ella', 'crow', 'threw', 'melon'],\n",
       " ['Brian', 'Madison', 'darter', 'ground', 'kiwifruit'],\n",
       " ['Caleb', 'Scarlett', 'dog', 'tasted', 'kumquat'],\n",
       " ['Calvin', 'Victoria', 'eagle', 'spat', 'lemon'],\n",
       " ['Camden', 'Aria', 'elephant', 'beat', 'lime'],\n",
       " ['Cameron', 'Grace', 'fox', 'flattened', 'lychee'],\n",
       " ['Christopher', 'Chloe', 'goose', 'burst', 'mandarine'],\n",
       " ['Daniel', 'Camila', 'hare', 'burned', 'mango'],\n",
       " ['David', 'Penelope', 'lemming', 'seared', 'nashi'],\n",
       " ['Dylan', 'Riley', 'lion', 'swallowed', 'nectarine'],\n",
       " ['Elijah', 'Layla', 'lynx', 'dropped', 'papaya'],\n",
       " ['Ethan', 'Lillian', 'marten', 'broke', 'passionfruit'],\n",
       " ['Gabriel', 'Nora', 'opossum', 'mashed', 'peach'],\n",
       " ['Henry', 'Zoey', 'otter', 'tossed', 'pear'],\n",
       " ['Isaac', 'Mila', 'pig', 'delivered', 'persimmon'],\n",
       " ['Jack', 'Aubrey', 'polecat', 'bred', 'pineapple'],\n",
       " ['Jacob', 'Hannah', 'porcupine', 'grew', 'plum'],\n",
       " ['James', 'Lily', 'rat', 'harvested', 'pomegranate'],\n",
       " ['John', 'Addison', 'sheep', 'cooled', 'quince'],\n",
       " ['Joseph', 'Eleanor', 'skink', 'carve', 'raspberry'],\n",
       " ['Julian', 'Natalie', 'squirrel', 'broiled', 'starfruit'],\n",
       " ['Liam', 'Luna', 'tern', 'grated', 'strawberry'],\n",
       " ['Logan', 'Savannah', 'tortoise', 'grilled', 'tamarillo'],\n",
       " ['Lucas', 'Brooklyn', 'wallaby', 'blended', 'tomato'],\n",
       " ['Peter', 'Leah', 'wookcock', 'mixed', 'watermelon']]"
      ]
     },
     "execution_count": 1,
     "metadata": {},
     "output_type": "execute_result"
    }
   ],
   "source": [
    "from base64 import b64decode\n",
    "from zlib import decompress\n",
    "\n",
    "wordsStore = [\n",
    "            ii.split(\" \")\n",
    "            for ii in decompress(\n",
    "                b64decode(\n",
    "                    \"\"\"eJw9VMuS3DYMvOsr8Cuz6y07W2PHFVflkBtEYSR6SIIGyXnk69OQ1qk5aFR\n",
    "                        oNYBGAyc2LfSWMxOnmbtpa8RdaOaC33SaJdGfKd6iA1JcuatRUL3KQnPicJ3F7Amc8caZTjfHV\n",
    "                        Q5Ms8a0g4Z8YBYA/mgMygRU4aBlYbpYdJgJLxcbsQNnkQv90Lp51tJRjKcL+MtJR5XplOTBZRG\n",
    "                        jrwdEULNRFfGUYTvylcXkTq8bW9KOnhyXtKI5HevWgYtoCbi+aXnSKUtyNsu8IKDUNIHMuHzUb\n",
    "                        05MbzdJz4KalhVvYYBnGEAo3Po2jE4zZIrpf8SmtaKqxXjV8tFic6YvbBWPWfiGB+LlSpe4Tqf\n",
    "                        RevSpxPSkOTZMqMWdY1Vtv9V8YDJvKf4LPfvmJJ5K7o4yhkYvUn5yBs8J7OAZlwt7U12THJCjl\n",
    "                        pcEdaH2Bb0H7tQyozqwDL7x9GK8JHkiE2YWTO/UN1cVWmlB1Cf1FXp5kQubT2E1HWWha7zHI8M\n",
    "                        rJ5npR8AcpHdadKXOrSPHdeRfg3fEDZX+HQPshTqEVxTZKspJkpHolfMiaGUPJqnbbgvxeMziY\n",
    "                        XEjfzYOQhd90CUxRl6QIz0hCyCbRfReXfjXLakcYkIXa50y3MQWi0yfuEQoC8aIjuGdHeJEwKy\n",
    "                        K+C0u9B3Uu5VQHjReqUF/YAq0i9OnZ4Isf0UXLkUf3x3Loz6bIqEfiTC7n7zRmQFGkeUBBxxOq\n",
    "                        Vz5ydNbR5d0do/imV1c2M6wekC0Fn+b6TPP5iV/U2PSig0emT6GWIXDNn2RAgf8oyjHF8GoA3R\n",
    "                        EbcJGcsAeoYoaV1qwBDDMHrUWs6v/jj2n08COPqnCPm6TeYegEa41iUN0hqNLQU9VLQyPwQvwS\n",
    "                        k0jA5CleTdPMnwOYW+ye6BqFtixYIOnd90w5OWwExqQ6rfGd/rXiCU4oGH4cKNwwSFq14idCc4\n",
    "                        F1laP1Xgfu2LfGOciwkb41gwCQbv9JDVM4JDuHHGSzqMwQZXiW9H3uPH9oDrr6qcIm7A3Bnd2j\n",
    "                        c37wlgA7Yy5+LGYziNwoxfDafTz4APnGWuXBHcKQM04ndN3cfnPAq47kEEhbI4PAO5+wfat+g8\n",
    "                        M6Ats\"\"\"\n",
    "                )\n",
    "            )\n",
    "            .decode(\"utf-8\")\n",
    "            .split(\"\\n\")\n",
    "        ]\n",
    "wordsStore"
   ]
  },
  {
   "cell_type": "code",
   "execution_count": 2,
   "metadata": {},
   "outputs": [
    {
     "data": {
      "text/plain": [
       "40"
      ]
     },
     "execution_count": 2,
     "metadata": {},
     "output_type": "execute_result"
    }
   ],
   "source": [
    "len(wordsStore)"
   ]
  },
  {
   "cell_type": "code",
   "execution_count": 3,
   "metadata": {},
   "outputs": [
    {
     "data": {
      "text/plain": [
       "array([ 1, -1, -1, -1,  1, -1,  1,  1])"
      ]
     },
     "execution_count": 3,
     "metadata": {},
     "output_type": "execute_result"
    }
   ],
   "source": [
    "import numpy as np\n",
    "2*np.array([1, 0, 0, 0, 1, 0, 1, 1]) - 1\n"
   ]
  },
  {
   "cell_type": "code",
   "execution_count": 2,
   "metadata": {},
   "outputs": [
    {
     "name": "stdout",
     "output_type": "stream",
     "text": [
      "Collecting numpy\n",
      "  Downloading numpy-1.26.2-cp311-cp311-macosx_11_0_arm64.whl.metadata (115 kB)\n",
      "\u001b[2K     \u001b[90m━━━━━━━━━━━━━━━━━━━━━━━━━━━━━━━━━━━━━━━\u001b[0m \u001b[32m115.1/115.1 kB\u001b[0m \u001b[31m4.3 MB/s\u001b[0m eta \u001b[36m0:00:00\u001b[0m\n",
      "\u001b[?25hDownloading numpy-1.26.2-cp311-cp311-macosx_11_0_arm64.whl (14.0 MB)\n",
      "\u001b[2K   \u001b[90m━━━━━━━━━━━━━━━━━━━━━━━━━━━━━━━━━━━━━━━━\u001b[0m \u001b[32m14.0/14.0 MB\u001b[0m \u001b[31m10.8 MB/s\u001b[0m eta \u001b[36m0:00:00\u001b[0m00:01\u001b[0m00:01\u001b[0m\n",
      "\u001b[?25hInstalling collected packages: numpy\n",
      "Successfully installed numpy-1.26.2\n"
     ]
    }
   ],
   "source": []
  },
  {
   "cell_type": "code",
   "execution_count": null,
   "metadata": {},
   "outputs": [],
   "source": []
  }
 ],
 "metadata": {
  "kernelspec": {
   "display_name": "utilitiesPy311",
   "language": "python",
   "name": "python3"
  },
  "language_info": {
   "codemirror_mode": {
    "name": "ipython",
    "version": 3
   },
   "file_extension": ".py",
   "mimetype": "text/x-python",
   "name": "python",
   "nbconvert_exporter": "python",
   "pygments_lexer": "ipython3",
   "version": "3.11.6"
  }
 },
 "nbformat": 4,
 "nbformat_minor": 2
}
